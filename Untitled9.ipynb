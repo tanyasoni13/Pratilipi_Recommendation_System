{
  "nbformat": 4,
  "nbformat_minor": 0,
  "metadata": {
    "colab": {
      "provenance": [],
      "gpuType": "T4"
    },
    "kernelspec": {
      "name": "python3",
      "display_name": "Python 3"
    },
    "language_info": {
      "name": "python"
    },
    "accelerator": "GPU"
  },
  "cells": [
    {
      "cell_type": "code",
      "source": [
        "!pip install surprise"
      ],
      "metadata": {
        "colab": {
          "base_uri": "https://localhost:8080/"
        },
        "id": "rO_2uWyk-xJL",
        "outputId": "3826fb97-f18c-4286-c7ad-008173c80a93"
      },
      "execution_count": 1,
      "outputs": [
        {
          "output_type": "stream",
          "name": "stdout",
          "text": [
            "Collecting surprise\n",
            "  Downloading surprise-0.1-py2.py3-none-any.whl.metadata (327 bytes)\n",
            "Collecting scikit-surprise (from surprise)\n",
            "  Downloading scikit_surprise-1.1.4.tar.gz (154 kB)\n",
            "\u001b[?25l     \u001b[90m━━━━━━━━━━━━━━━━━━━━━━━━━━━━━━━━━━━━━━━━\u001b[0m \u001b[32m0.0/154.4 kB\u001b[0m \u001b[31m?\u001b[0m eta \u001b[36m-:--:--\u001b[0m\r\u001b[2K     \u001b[91m━━━━━━━━━━━━━━━━━━━━━━━━━━━━━\u001b[0m\u001b[90m╺\u001b[0m\u001b[90m━━━━━━━━━━\u001b[0m \u001b[32m112.6/154.4 kB\u001b[0m \u001b[31m3.0 MB/s\u001b[0m eta \u001b[36m0:00:01\u001b[0m\r\u001b[2K     \u001b[90m━━━━━━━━━━━━━━━━━━━━━━━━━━━━━━━━━━━━━━━━\u001b[0m \u001b[32m154.4/154.4 kB\u001b[0m \u001b[31m3.1 MB/s\u001b[0m eta \u001b[36m0:00:00\u001b[0m\n",
            "\u001b[?25h  Installing build dependencies ... \u001b[?25l\u001b[?25hdone\n",
            "  Getting requirements to build wheel ... \u001b[?25l\u001b[?25hdone\n",
            "  Preparing metadata (pyproject.toml) ... \u001b[?25l\u001b[?25hdone\n",
            "Requirement already satisfied: joblib>=1.2.0 in /usr/local/lib/python3.11/dist-packages (from scikit-surprise->surprise) (1.4.2)\n",
            "Requirement already satisfied: numpy>=1.19.5 in /usr/local/lib/python3.11/dist-packages (from scikit-surprise->surprise) (1.26.4)\n",
            "Requirement already satisfied: scipy>=1.6.0 in /usr/local/lib/python3.11/dist-packages (from scikit-surprise->surprise) (1.13.1)\n",
            "Downloading surprise-0.1-py2.py3-none-any.whl (1.8 kB)\n",
            "Building wheels for collected packages: scikit-surprise\n",
            "  Building wheel for scikit-surprise (pyproject.toml) ... \u001b[?25l\u001b[?25hdone\n",
            "  Created wheel for scikit-surprise: filename=scikit_surprise-1.1.4-cp311-cp311-linux_x86_64.whl size=2505179 sha256=bd9b34a2fdcce39acf607b8b485e1ccedcaa374039ea586b142ff528fcc1df18\n",
            "  Stored in directory: /root/.cache/pip/wheels/2a/8f/6e/7e2899163e2d85d8266daab4aa1cdabec7a6c56f83c015b5af\n",
            "Successfully built scikit-surprise\n",
            "Installing collected packages: scikit-surprise, surprise\n",
            "Successfully installed scikit-surprise-1.1.4 surprise-0.1\n"
          ]
        }
      ]
    },
    {
      "cell_type": "code",
      "execution_count": 1,
      "metadata": {
        "id": "mcd4uCmQmK4y"
      },
      "outputs": [],
      "source": [
        "import pandas as pd\n",
        "import numpy as np\n",
        "import matplotlib.pyplot as plt\n",
        "import seaborn as sns\n",
        "from surprise import SVD, Dataset, Reader\n",
        "from surprise.model_selection import train_test_split\n",
        "from sklearn.metrics.pairwise import cosine_similarity\n",
        "from scipy.sparse import csr_matrix"
      ]
    },
    {
      "cell_type": "code",
      "source": [
        "interactions = pd.read_csv(\"user_interaction.csv\")\n",
        "metadata = pd.read_csv(\"metadata.csv\")"
      ],
      "metadata": {
        "id": "OjmOgrHDmUdA"
      },
      "execution_count": 2,
      "outputs": []
    },
    {
      "cell_type": "code",
      "source": [
        "interactions.columns"
      ],
      "metadata": {
        "colab": {
          "base_uri": "https://localhost:8080/"
        },
        "id": "AGF1_W-Wm2Dp",
        "outputId": "34cac957-4c20-460a-a954-9fb57ba89954"
      },
      "execution_count": 3,
      "outputs": [
        {
          "output_type": "execute_result",
          "data": {
            "text/plain": [
              "Index(['user_id', 'pratilipi_id', 'read_percent', 'updated_at'], dtype='object')"
            ]
          },
          "metadata": {},
          "execution_count": 3
        }
      ]
    },
    {
      "cell_type": "code",
      "source": [
        "metadata.columns"
      ],
      "metadata": {
        "colab": {
          "base_uri": "https://localhost:8080/"
        },
        "id": "wTSzi2jPnBG0",
        "outputId": "5ddc7be1-c735-4b31-ed3b-ca3325d64461"
      },
      "execution_count": 4,
      "outputs": [
        {
          "output_type": "execute_result",
          "data": {
            "text/plain": [
              "Index(['author_id', 'pratilipi_id', 'category_name', 'reading_time',\n",
              "       'updated_at', 'published_at'],\n",
              "      dtype='object')"
            ]
          },
          "metadata": {},
          "execution_count": 4
        }
      ]
    },
    {
      "cell_type": "code",
      "source": [
        "merged_df = interactions.merge(metadata, on='pratilipi_id')"
      ],
      "metadata": {
        "id": "lQ2MGFnzmvyK"
      },
      "execution_count": 5,
      "outputs": []
    },
    {
      "cell_type": "code",
      "source": [
        "len(merged_df)"
      ],
      "metadata": {
        "colab": {
          "base_uri": "https://localhost:8080/"
        },
        "id": "FyDpSmxanIst",
        "outputId": "fd234d62-3ab5-485a-e8e0-cf50c04e8cb2"
      },
      "execution_count": 6,
      "outputs": [
        {
          "output_type": "execute_result",
          "data": {
            "text/plain": [
              "3974678"
            ]
          },
          "metadata": {},
          "execution_count": 6
        }
      ]
    },
    {
      "cell_type": "code",
      "source": [
        "merged_df = merged_df[:30000]"
      ],
      "metadata": {
        "id": "S8jBvpZonLro"
      },
      "execution_count": 7,
      "outputs": []
    },
    {
      "cell_type": "code",
      "source": [
        "user_mapping = {user: i for i, user in enumerate(merged_df['user_id'].unique())}\n",
        "pratilipi_mapping = {p: i for i, p in enumerate(merged_df['pratilipi_id'].unique())}\n",
        "merged_df['user_id'] = merged_df['user_id'].map(user_mapping)\n",
        "merged_df['pratilipi_id'] = merged_df['pratilipi_id'].map(pratilipi_mapping)"
      ],
      "metadata": {
        "id": "M3n3uQ67nXhU"
      },
      "execution_count": 8,
      "outputs": []
    },
    {
      "cell_type": "code",
      "source": [
        "reader = Reader(rating_scale=(0, 100))\n",
        "data = Dataset.load_from_df(merged_df[['user_id', 'pratilipi_id', 'read_percent']], reader)\n",
        "trainset, testset = train_test_split(data, test_size=0.25)"
      ],
      "metadata": {
        "id": "iPlEUzjfnjzo"
      },
      "execution_count": 9,
      "outputs": []
    },
    {
      "cell_type": "code",
      "source": [
        "svd = SVD()\n",
        "svd.fit(trainset)"
      ],
      "metadata": {
        "colab": {
          "base_uri": "https://localhost:8080/"
        },
        "id": "YOKf2mndnnM9",
        "outputId": "fe1da080-bd39-40be-832f-ff8fa533489c"
      },
      "execution_count": 10,
      "outputs": [
        {
          "output_type": "execute_result",
          "data": {
            "text/plain": [
              "<surprise.prediction_algorithms.matrix_factorization.SVD at 0x7c503413c1d0>"
            ]
          },
          "metadata": {},
          "execution_count": 10
        }
      ]
    },
    {
      "cell_type": "code",
      "source": [
        "def recommend_pratilipis(user_id, n=5):\n",
        "    pratilipi_ids = merged_df['pratilipi_id'].unique()\n",
        "    predictions = [svd.predict(user_id, pid) for pid in pratilipi_ids]\n",
        "    top_n = sorted(predictions, key=lambda x: x.est, reverse=True)[:n]\n",
        "    return [int(pred.iid) for pred in top_n]"
      ],
      "metadata": {
        "id": "-Fe9hPXMnxSh"
      },
      "execution_count": 11,
      "outputs": []
    },
    {
      "cell_type": "code",
      "source": [
        "pratilipi_features = pd.get_dummies(metadata[['category_name']])\n",
        "pratilipi_matrix = csr_matrix(pratilipi_features.values)\n",
        "similarity_matrix = cosine_similarity(pratilipi_matrix)"
      ],
      "metadata": {
        "id": "SqNnt49Zn0Ks"
      },
      "execution_count": null,
      "outputs": []
    },
    {
      "cell_type": "code",
      "source": [
        "def recommend_similar(pratilipi_id, n=5):\n",
        "    if pratilipi_id not in pratilipi_mapping:\n",
        "        return []  # Return empty list if pratilipi_id is not found\n",
        "\n",
        "    idx = pratilipi_mapping[pratilipi_id]\n",
        "    similar_indices = similarity_matrix[idx].argsort()[-n-1:-1][::-1]\n",
        "    return [list(pratilipi_mapping.keys())[i] for i in similar_indices]"
      ],
      "metadata": {
        "id": "k1hiqeWVn2hR"
      },
      "execution_count": null,
      "outputs": []
    },
    {
      "cell_type": "code",
      "source": [
        "def hybrid_recommendation(user_id, n=5):\n",
        "    collab_recs = recommend_pratilipis(user_id, n//2)\n",
        "    content_recs = []\n",
        "    for pid in collab_recs:\n",
        "        content_recs.extend(recommend_similar(pid, 1))\n",
        "    return list(set(collab_recs + content_recs))[:n]"
      ],
      "metadata": {
        "id": "hY4YHz9vn9Nw"
      },
      "execution_count": null,
      "outputs": []
    },
    {
      "cell_type": "code",
      "source": [
        "map_to_pratilipi = {v: k for k, v in pratilipi_mapping.items()}"
      ],
      "metadata": {
        "id": "c9mQ4rIaqYbw"
      },
      "execution_count": null,
      "outputs": []
    },
    {
      "cell_type": "code",
      "source": [
        "# print(hybrid_recommendation(3))"
      ],
      "metadata": {
        "id": "PRprYh8WoC2W"
      },
      "execution_count": null,
      "outputs": []
    },
    {
      "cell_type": "code",
      "source": [
        "result = hybrid_recommendation(3)\n",
        "result = [map_to_pratilipi[i] for i in result]\n",
        "print(result)"
      ],
      "metadata": {
        "id": "EqAtmyIwLaXf"
      },
      "execution_count": null,
      "outputs": []
    }
  ]
}